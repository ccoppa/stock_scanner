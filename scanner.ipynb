{
 "cells": [
  {
   "cell_type": "code",
   "execution_count": null,
   "id": "957c5105-7af4-44dc-99e5-f4a4ccf50179",
   "metadata": {},
   "outputs": [],
   "source": [
    "## IEX EDA starts here"
   ]
  },
  {
   "cell_type": "code",
   "execution_count": 2,
   "id": "288983ae-7db0-4477-923a-1cc2df5b7da5",
   "metadata": {},
   "outputs": [],
   "source": [
    "import os\n",
    "import requests\n",
    "import pandas as pd\n",
    "import matplotlib.pyplot as plt"
   ]
  },
  {
   "cell_type": "code",
   "execution_count": 37,
   "id": "9f95cf2c-976b-43c6-9f94-7d41ff67701d",
   "metadata": {},
   "outputs": [
    {
     "name": "stdout",
     "output_type": "stream",
     "text": [
      "Tsk_2f36139a7da4433bbc4882148386ff32\n",
      "sk_adc1a33884d64226b0ad7b2e4a5f213e\n"
     ]
    }
   ],
   "source": [
    "print(os.environ.get('IEX_SANDBOX_TOKEN'))\n",
    "print(os.environ.get('IEX_TOKEN'))"
   ]
  },
  {
   "cell_type": "code",
   "execution_count": 38,
   "id": "4aee105c-e88a-472b-831d-a195d8584c22",
   "metadata": {},
   "outputs": [],
   "source": [
    "base_url = 'https://cloud.iexapis.com/v1'\n",
    "sandbox_url = 'https://sandbox.iexapis.com/stable'\n",
    "\n",
    "token = os.environ.get('IEX_TOKEN')\n",
    "sandbox_token = os.environ.get('IEX_SANDBOX_TOKEN')\n",
    "params = {'token': token}\n",
    "sandbox_params = {'token': sandbox_token}\n"
   ]
  },
  {
   "cell_type": "code",
   "execution_count": 44,
   "id": "1edeb24a-06f6-4a99-a556-ae4b583d82b4",
   "metadata": {},
   "outputs": [],
   "source": [
    "# endpoint = '/stock/aapl/chart'\n",
    "# endpoint = '/stock/aapl/balance-sheet'\n",
    "# endpoint = '/stock/aapl/financials'\n",
    "# endpoint = '/time-series/reported_financials/AAPL/10-Q?last=2'\n",
    "# endpoint = '/time-series'\n",
    "# endpoint = '/stock/aapl/financials?period=quarter'\n",
    "\n",
    "\n",
    "endpoint = '/stock/aapl/income/10-Q?last=1'\n",
    "# resp = requests.get(base_url+endpoint, params = params)\n",
    "resp = requests.get(sandbox_url+endpoint, params = sandbox_params)"
   ]
  },
  {
   "cell_type": "code",
   "execution_count": 46,
   "id": "86e4d79e-2433-4def-80df-e4c64484a6f4",
   "metadata": {},
   "outputs": [],
   "source": [
    "resp.raise_for_status()\n",
    "income = resp.json()"
   ]
  },
  {
   "cell_type": "code",
   "execution_count": 47,
   "id": "83910845-31b5-4759-85c1-eb57b5185943",
   "metadata": {},
   "outputs": [],
   "source": [
    "# income"
   ]
  },
  {
   "cell_type": "code",
   "execution_count": 19,
   "id": "c56eb412-ffb6-4979-ac1a-538e4032ff55",
   "metadata": {},
   "outputs": [],
   "source": [
    "rev = []\n",
    "rev_qrt = {}\n",
    "\n",
    "for num in range(0,len(income['income'])):\n",
    "    for key in ('fiscalDate','fiscalQuarter','totalRevenue'):\n",
    "        rev_qrt[key] = income['income'][num].setdefault(key)\n",
    "    rev.append(rev_qrt)\n",
    "    rev_qrt = {}\n",
    "\n"
   ]
  },
  {
   "cell_type": "code",
   "execution_count": 102,
   "id": "8a07cb95-037f-48ad-b392-a5cc0695696e",
   "metadata": {},
   "outputs": [],
   "source": [
    "# rev is a list of dict\n",
    "# TODO\n",
    "# add TTM_Revenue\n",
    "for i in range(len(rev)):\n",
    "    if (i+3) < len(rev):\n",
    "        rev[i]['TTM_Revenue'] = rev[i]['totalRevenue'] + rev[i+1]['totalRevenue'] + rev[i+2]['totalRevenue'] + rev[i+3]['totalRevenue']\n",
    "        \n",
    "# rev_df = pd.DataFrame(rev)    \n",
    "# # rename totalRevenue to Quarterly_Revenue\n",
    "# rev_df = rev_df.rename(columns={'totalRevenue': 'Quarterly_Revenue'})\n",
    "# rev_df"
   ]
  },
  {
   "cell_type": "code",
   "execution_count": 103,
   "id": "fb81ef6b-8f20-45f0-9db6-0750bfe04935",
   "metadata": {},
   "outputs": [
    {
     "data": {
      "text/plain": [
       "[{'fiscalDate': '2021-03-18',\n",
       "  'fiscalQuarter': 2,\n",
       "  'totalRevenue': 92069919017,\n",
       "  'TTM_Revenue': 336440756333},\n",
       " {'fiscalDate': '2020-12-16',\n",
       "  'fiscalQuarter': 1,\n",
       "  'totalRevenue': 115226227505,\n",
       "  'TTM_Revenue': 304051622819},\n",
       " {'fiscalDate': '2020-09-18',\n",
       "  'fiscalQuarter': 4,\n",
       "  'totalRevenue': 67424372673,\n",
       "  'TTM_Revenue': 281009693336},\n",
       " {'fiscalDate': '2020-06-26',\n",
       "  'fiscalQuarter': 3,\n",
       "  'totalRevenue': 61720237138,\n",
       "  'TTM_Revenue': 280734218546},\n",
       " {'fiscalDate': '2020-03-15',\n",
       "  'fiscalQuarter': 2,\n",
       "  'totalRevenue': 59680785503,\n",
       "  'TTM_Revenue': 275044467339},\n",
       " {'fiscalDate': '2019-12-21',\n",
       "  'fiscalQuarter': 1,\n",
       "  'totalRevenue': 92184298022,\n",
       "  'TTM_Revenue': 274819047245},\n",
       " {'fiscalDate': '2019-09-15',\n",
       "  'fiscalQuarter': 4,\n",
       "  'totalRevenue': 67148897883,\n",
       "  'TTM_Revenue': 269224491731},\n",
       " {'fiscalDate': '2019-06-22',\n",
       "  'fiscalQuarter': 3,\n",
       "  'totalRevenue': 56030485931,\n",
       "  'TTM_Revenue': 265920939242},\n",
       " {'fiscalDate': '2019-03-22',\n",
       "  'fiscalQuarter': 2,\n",
       "  'totalRevenue': 59455365409,\n",
       "  'TTM_Revenue': 264859678856},\n",
       " {'fiscalDate': '2018-12-27', 'fiscalQuarter': 1, 'totalRevenue': 86589742508},\n",
       " {'fiscalDate': '2018-09-15', 'fiscalQuarter': 4, 'totalRevenue': 63845345394},\n",
       " {'fiscalDate': '2018-06-16', 'fiscalQuarter': 3, 'totalRevenue': 54969225545}]"
      ]
     },
     "execution_count": 103,
     "metadata": {},
     "output_type": "execute_result"
    }
   ],
   "source": [
    "rev"
   ]
  },
  {
   "cell_type": "code",
   "execution_count": 16,
   "id": "2d46c6b3-a8fa-48ad-ad6f-08c9b4804c90",
   "metadata": {},
   "outputs": [],
   "source": [
    "# If you plan to use this same endpoint a few times, it makes sense to create a function to avoid repeating code. Here is an example:"
   ]
  },
  {
   "cell_type": "code",
   "execution_count": 13,
   "id": "58067f37-60ed-4d6f-8252-83c84e0b836e",
   "metadata": {},
   "outputs": [],
   "source": [
    "# param definitions\n",
    "base_url = 'https://cloud.iexapis.com/v1'\n",
    "sandbox_url = 'https://sandbox.iexapis.com/stable'\n",
    "\n",
    "token = os.environ.get('IEX_TOKEN')\n",
    "sandbox_token = os.environ.get('IEX_SANDBOX_TOKEN')\n",
    "params = {'token': token}\n",
    "sandbox_params = {'token': sandbox_token}\n",
    "    \n",
    "def revenue_history(_symbol, _params, _last=None):\n",
    "    # _last defaul is 1; max is 12 (quarters)\n",
    "    endpoint = f'{sandbox_url}/stock/{_symbol}/income/10-Q'\n",
    "    if _last:\n",
    "        endpoint += f'/?last={_last}'\n",
    "    \n",
    "    resp = requests.get(endpoint, params=_params)\n",
    "    resp.raise_for_status()\n",
    "    resp = resp.json()\n",
    "    \n",
    "    rev = []\n",
    "    rev_qrt = {}\n",
    "    \n",
    "    # extract date/quarter/quarterly revenue\n",
    "    for num in range(0,len(resp['income'])):\n",
    "        for key in ('fiscalDate','fiscalQuarter','totalRevenue'):\n",
    "            rev_qrt[key] = resp['income'][num].setdefault(key)\n",
    "        rev.append(rev_qrt)\n",
    "        rev_qrt = {}\n",
    "    \n",
    "    # add TTM_Revenue\n",
    "    # the last 3 TTM Revenue would not be available\n",
    "    for i in range(0,len(rev)):\n",
    "        if (i+3) < len(rev):\n",
    "            rev[i]['TTM_Revenue'] = rev[i]['totalRevenue'] + rev[i+1]['totalRevenue'] + rev[i+2]['totalRevenue'] + rev[i+3]['totalRevenue']\n",
    "\n",
    "    # Calculate quarterly & yearly revenue growth\n",
    "    q=0\n",
    "    y=0\n",
    "    while q < 8:\n",
    "        rev[q]['Quarterly_Revenue_Growth'] = round((rev[q]['totalRevenue']/rev[q+4]['totalRevenue']-1)*100,2)\n",
    "        q += 1\n",
    "    while y < 5:    \n",
    "        rev[y]['TTM_Revenue_Growth'] = round((rev[y]['TTM_Revenue']/rev[y+4]['TTM_Revenue']-1)*100,2)\n",
    "        y += 1\n",
    "    \n",
    "    # Convert to pandas DF\n",
    "    rev_df = pd.DataFrame(rev)    \n",
    "    # rename totalRevenue to Quarterly_Revenue\n",
    "    rev_df = rev_df.rename(columns={'totalRevenue': 'Quarterly_Revenue'})\n",
    "    # remove df rows where quarterly_revenue_growth is NaN\n",
    "    rev_df = rev_df.loc[0:7]\n",
    "    # use datetime format\n",
    "    rev_df['fiscalDate'] = pd.to_datetime(rev_df['fiscalDate'], format='%Y/%m/%d')\n",
    "    \n",
    "    return rev_df"
   ]
  },
  {
   "cell_type": "code",
   "execution_count": 42,
   "id": "ee1d92c6-bb00-4102-8e16-1a305e006e44",
   "metadata": {},
   "outputs": [
    {
     "name": "stdout",
     "output_type": "stream",
     "text": [
      "  fiscalDate  fiscalQuarter  Quarterly_Revenue   TTM_Revenue  \\\n",
      "0 2021-03-13              2        91680957427  3.361077e+11   \n",
      "1 2020-12-24              1       114780453979  3.051339e+11   \n",
      "2 2020-09-15              4        67823528054  2.841488e+11   \n",
      "3 2020-06-15              3        61822751675  2.829410e+11   \n",
      "4 2020-03-17              2        60707143422  2.749373e+11   \n",
      "5 2019-12-20              1        93795351341  2.726081e+11   \n",
      "6 2019-09-24              4        66615746147  2.636970e+11   \n",
      "7 2019-06-19              3        53819091373  2.622461e+11   \n",
      "\n",
      "   Quarterly_Revenue_Growth  TTM_Revenue_Growth  \n",
      "0                     51.02               22.25  \n",
      "1                     22.37               11.93  \n",
      "2                      1.81                7.76  \n",
      "3                     14.87                7.89  \n",
      "4                      3.99                4.80  \n",
      "5                     10.50                 NaN  \n",
      "6                      2.23                 NaN  \n",
      "7                     -0.18                 NaN  \n"
     ]
    },
    {
     "data": {
      "image/png": "[encoded data removed]",
      "text/plain": [
       "<Figure size 432x288 with 1 Axes>"
      ]
     },
     "metadata": {
      "needs_background": "light"
     },
     "output_type": "display_data"
    }
   ],
   "source": [
    "appl_rev_trend = revenue_history('AAPL', sandbox_params, 12)\n",
    "print(appl_rev_trend)\n",
    "plt.plot(appl_rev_trend['fiscalDate'], appl_rev_trend['Quarterly_Revenue_Growth'], label = \"3m Revenue Growth\")\n",
    "plt.plot(appl_rev_trend['fiscalDate'], appl_rev_trend['TTM_Revenue_Growth'], label = \"TTM Revenue Growth\")\n",
    "plt.xlabel('Fiscal Date')\n",
    "plt.ylabel('Revenue Growth (%)')\n",
    "plt.title('Short Term (3-month) vs Long Term (TTM) Revenue Growth')\n",
    "plt.tick_params(axis='x', which='major', labelsize=6)\n",
    "# show a legend on the plot\n",
    "plt.legend()\n",
    "# Display a figure.\n",
    "plt.show()"
   ]
  },
  {
   "cell_type": "code",
   "execution_count": 50,
   "id": "267ffead-5ead-45b5-abae-1b226f306fd9",
   "metadata": {},
   "outputs": [],
   "source": [
    "from bokeh.plotting import figure, output_file, show\n",
    "from bokeh.models import ColumnDataSource\n",
    "from bokeh.palettes import Spectral3"
   ]
  },
  {
   "cell_type": "code",
   "execution_count": null,
   "id": "8921389e-9510-4dcc-8115-c5f51fa38230",
   "metadata": {},
   "outputs": [],
   "source": []
  },
  {
   "cell_type": "code",
   "execution_count": 51,
   "id": "c92da897-3997-4ef2-ad8c-844a5f728d95",
   "metadata": {},
   "outputs": [
    {
     "name": "stderr",
     "output_type": "stream",
     "text": [
      "BokehDeprecationWarning: 'legend' keyword is deprecated, use explicit 'legend_label', 'legend_field', or 'legend_group' keywords instead\n",
      "BokehDeprecationWarning: 'legend' keyword is deprecated, use explicit 'legend_label', 'legend_field', or 'legend_group' keywords instead\n"
     ]
    }
   ],
   "source": [
    "#make sure MSNDATE is a datetime format\n",
    "appl_2qrt_df['fiscalDate'] = pd.to_datetime(appl_2qrt_df['fiscalDate'], format='%Y/%m/%d')\n",
    "p = figure(x_axis_type='datetime')\n",
    "\n",
    "p.line(x='fiscalDate', y='Quarterly_Revenue_Growth', line_width=2, source=appl_2qrt_df, legend='Quarterly_Revenue_Growth')\n",
    "p.line(x='fiscalDate', y='TTM_Revenue_Growth', line_width=2, source=appl_2qrt_df, color=Spectral3[2], legend='TTM_Revenue_Growth')\n",
    "\n",
    "p.yaxis.axis_label = '3-Month vs TTM Revenue'\n",
    "\n",
    "show(p)"
   ]
  },
  {
   "cell_type": "code",
   "execution_count": 17,
   "id": "676473b0-350d-4363-b685-0379b243657d",
   "metadata": {},
   "outputs": [],
   "source": [
    "# def historical_data(_symbol, _range=None, _date=None):\n",
    "#     endpoint = f'{base_url}/stock/{_symbol}/chart'\n",
    "#     if _range:\n",
    "#         endpoint += f'/{_range}'\n",
    "#     elif _date:\n",
    "#         endpoint += f'/date/{_date}'\n",
    "    \n",
    "#     resp = requests.get(endpoint, params=params)\n",
    "#     resp.raise_for_status()\n",
    "#     return pd.DataFrame(resp.json())"
   ]
  },
  {
   "cell_type": "code",
   "execution_count": 26,
   "id": "98650bed-3ddb-4107-bd83-a9c00d759ed8",
   "metadata": {},
   "outputs": [],
   "source": [
    "#appl_3m_df = historical_data('AAPL', _range='1m')"
   ]
  },
  {
   "cell_type": "code",
   "execution_count": null,
   "id": "eb1fa629-147f-48e9-9d0b-a7aea761d091",
   "metadata": {},
   "outputs": [],
   "source": []
  }
 ],
 "metadata": {
  "kernelspec": {
   "display_name": "Python 3",
   "language": "python",
   "name": "python3"
  },
  "language_info": {
   "codemirror_mode": {
    "name": "ipython",
    "version": 3
   },
   "file_extension": ".py",
   "mimetype": "text/x-python",
   "name": "python",
   "nbconvert_exporter": "python",
   "pygments_lexer": "ipython3",
   "version": "3.9.5"
  }
 },
 "nbformat": 4,
 "nbformat_minor": 5
}
