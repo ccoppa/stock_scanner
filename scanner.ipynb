{
 "cells": [
  {
   "cell_type": "code",
   "execution_count": null,
   "id": "957c5105-7af4-44dc-99e5-f4a4ccf50179",
   "metadata": {},
   "outputs": [],
   "source": [
    "## IEX EDA starts here"
   ]
  },
  {
   "cell_type": "code",
   "execution_count": 1,
   "id": "288983ae-7db0-4477-923a-1cc2df5b7da5",
   "metadata": {},
   "outputs": [],
   "source": [
    "import os\n",
    "import requests\n",
    "import pandas as pd"
   ]
  },
  {
   "cell_type": "code",
   "execution_count": 2,
   "id": "9f95cf2c-976b-43c6-9f94-7d41ff67701d",
   "metadata": {},
   "outputs": [
    {
     "data": {
      "text/plain": [
       "'Tsk_2f36139a7da4433bbc4882148386ff32'"
      ]
     },
     "execution_count": 2,
     "metadata": {},
     "output_type": "execute_result"
    }
   ],
   "source": [
    "os.environ.get('IEX_SANDBOX_TOKEN')"
   ]
  },
  {
   "cell_type": "code",
   "execution_count": 3,
   "id": "4aee105c-e88a-472b-831d-a195d8584c22",
   "metadata": {},
   "outputs": [],
   "source": [
    "base_url = 'https://cloud.iexapis.com/v1'\n",
    "sandbox_url = 'https://sandbox.iexapis.com/stable'\n",
    "\n",
    "token = os.environ.get('IEX_TOKEN')\n",
    "sandbox_token = os.environ.get('IEX_SANDBOX_TOKEN')\n",
    "params = {'token': token}\n",
    "sandbox_params = {'token': sandbox_token}\n"
   ]
  },
  {
   "cell_type": "code",
   "execution_count": 130,
   "id": "1edeb24a-06f6-4a99-a556-ae4b583d82b4",
   "metadata": {},
   "outputs": [],
   "source": [
    "# endpoint = '/stock/aapl/chart'\n",
    "# endpoint = '/stock/aapl/balance-sheet'\n",
    "# endpoint = '/stock/aapl/financials'\n",
    "# endpoint = '/time-series/reported_financials/AAPL/10-Q?last=2'\n",
    "endpoint = '/stock/aapl/income/10-Q?last=12'\n",
    "# endpoint = '/time-series'\n",
    "# endpoint = '/stock/aapl/financials?period=quarter'\n",
    "resp = requests.get(sandbox_url+endpoint, params = sandbox_params)"
   ]
  },
  {
   "cell_type": "code",
   "execution_count": 131,
   "id": "86e4d79e-2433-4def-80df-e4c64484a6f4",
   "metadata": {},
   "outputs": [],
   "source": [
    "resp.raise_for_status()"
   ]
  },
  {
   "cell_type": "code",
   "execution_count": 132,
   "id": "b2bbbc47-5c4e-487a-8eb1-0452e5bbcd81",
   "metadata": {},
   "outputs": [],
   "source": [
    "income = resp.json()"
   ]
  },
  {
   "cell_type": "code",
   "execution_count": 133,
   "id": "b7ab7ad9-4245-4272-8532-eccbecc39e18",
   "metadata": {},
   "outputs": [
    {
     "data": {
      "text/plain": [
       "dict_keys(['costOfRevenue', 'currency', 'ebit', 'filingType', 'fiscalDate', 'fiscalQuarter', 'fiscalYear', 'grossProfit', 'incomeTax', 'interestIncome', 'minorityInterest', 'netIncome', 'netIncomeBasic', 'operatingExpense', 'operatingIncome', 'otherIncomeExpenseNet', 'pretaxIncome', 'reportDate', 'researchAndDevelopment', 'sellingGeneralAndAdmin', 'symbol', 'totalRevenue', 'id', 'key', 'subkey', 'updated'])"
      ]
     },
     "execution_count": 133,
     "metadata": {},
     "output_type": "execute_result"
    }
   ],
   "source": [
    "income['income'][0].keys()"
   ]
  },
  {
   "cell_type": "code",
   "execution_count": 129,
   "id": "6f56321b-5b5f-4676-859a-686eb71cdb95",
   "metadata": {},
   "outputs": [
    {
     "data": {
      "text/plain": [
       "{'symbol': 'AAPL',\n",
       " 'income': [{'costOfRevenue': 52868179751,\n",
       "   'currency': 'USD',\n",
       "   'ebit': 28650967267,\n",
       "   'filingType': '10-Q',\n",
       "   'fiscalDate': '2021-03-15',\n",
       "   'fiscalQuarter': 2,\n",
       "   'fiscalYear': 2037,\n",
       "   'grossProfit': 39470002610,\n",
       "   'incomeTax': 4420671152,\n",
       "   'interestIncome': 673184408,\n",
       "   'minorityInterest': 0,\n",
       "   'netIncome': 24792002251,\n",
       "   'netIncomeBasic': 24088867486,\n",
       "   'operatingExpense': 64539222875,\n",
       "   'operatingIncome': 28302697541,\n",
       "   'otherIncomeExpenseNet': 0,\n",
       "   'pretaxIncome': 28615249385,\n",
       "   'reportDate': '2021-04-24',\n",
       "   'researchAndDevelopment': 5406485745,\n",
       "   'sellingGeneralAndAdmin': 5515487425,\n",
       "   'symbol': 'AAPL',\n",
       "   'totalRevenue': 91778501657,\n",
       "   'id': 'CMNEIO',\n",
       "   'key': 'ALAP',\n",
       "   'subkey': 'quarterly',\n",
       "   'updated': 1639636147569}]}"
      ]
     },
     "execution_count": 129,
     "metadata": {},
     "output_type": "execute_result"
    }
   ],
   "source": [
    "income"
   ]
  },
  {
   "cell_type": "code",
   "execution_count": 134,
   "id": "c56eb412-ffb6-4979-ac1a-538e4032ff55",
   "metadata": {},
   "outputs": [],
   "source": [
    "rev = []\n",
    "rev_qrt = {}\n",
    "\n",
    "for num in range(0,len(income['income'])):\n",
    "    for key in ('fiscalDate','fiscalQuarter','totalRevenue'):\n",
    "        rev_qrt[key] = income['income'][num].setdefault(key)\n",
    "    rev.append(rev_qrt)\n",
    "    rev_qrt = {}\n",
    "        \n",
    "rev_df = pd.DataFrame(rev)    \n",
    "rev_df"
   ]
  },
  {
   "cell_type": "code",
   "execution_count": 16,
   "id": "2d46c6b3-a8fa-48ad-ad6f-08c9b4804c90",
   "metadata": {},
   "outputs": [],
   "source": [
    "# If you plan to use this same endpoint a few times, it makes sense to create a function to avoid repeating code. Here is an example:"
   ]
  },
  {
   "cell_type": "code",
   "execution_count": null,
   "id": "9d7e2c31-f533-4aeb-b2c0-c53f4f409004",
   "metadata": {},
   "outputs": [],
   "source": [
    "'/stock/aapl/income/10-Q?last=12'\n",
    "resp = requests.get(sandbox_url+endpoint, params = sandbox_params)"
   ]
  },
  {
   "cell_type": "code",
   "execution_count": 138,
   "id": "58067f37-60ed-4d6f-8252-83c84e0b836e",
   "metadata": {},
   "outputs": [],
   "source": [
    "def revenue_history(_symbol, _params, _last=None):\n",
    "    endpoint = f'{sandbox_url}/stock/{_symbol}/income/10-Q'\n",
    "    if _last:\n",
    "        endpoint += f'/?last={_last}'\n",
    "    \n",
    "    resp = requests.get(endpoint, params=_params)\n",
    "    resp.raise_for_status()\n",
    "    resp = resp.json()\n",
    "    \n",
    "    rev = []\n",
    "    rev_qrt = {}\n",
    "\n",
    "    for num in range(0,len(resp['income'])):\n",
    "        for key in ('fiscalDate','fiscalQuarter','totalRevenue'):\n",
    "            rev_qrt[key] = resp['income'][num].setdefault(key)\n",
    "        rev.append(rev_qrt)\n",
    "        rev_qrt = {}\n",
    "    \n",
    "    return pd.DataFrame(rev)"
   ]
  },
  {
   "cell_type": "code",
   "execution_count": 140,
   "id": "f366b39d-c5ff-407f-97aa-4769367e6e2e",
   "metadata": {
    "tags": []
   },
   "outputs": [
    {
     "data": {
      "text/html": [
       "<div>\n",
       "<style scoped>\n",
       "    .dataframe tbody tr th:only-of-type {\n",
       "        vertical-align: middle;\n",
       "    }\n",
       "\n",
       "    .dataframe tbody tr th {\n",
       "        vertical-align: top;\n",
       "    }\n",
       "\n",
       "    .dataframe thead th {\n",
       "        text-align: right;\n",
       "    }\n",
       "</style>\n",
       "<table border=\"1\" class=\"dataframe\">\n",
       "  <thead>\n",
       "    <tr style=\"text-align: right;\">\n",
       "      <th></th>\n",
       "      <th>fiscalDate</th>\n",
       "      <th>fiscalQuarter</th>\n",
       "      <th>totalRevenue</th>\n",
       "    </tr>\n",
       "  </thead>\n",
       "  <tbody>\n",
       "    <tr>\n",
       "      <th>0</th>\n",
       "      <td>2021-03-24</td>\n",
       "      <td>2</td>\n",
       "      <td>92332286186</td>\n",
       "    </tr>\n",
       "    <tr>\n",
       "      <th>1</th>\n",
       "      <td>2020-12-16</td>\n",
       "      <td>1</td>\n",
       "      <td>111978134657</td>\n",
       "    </tr>\n",
       "  </tbody>\n",
       "</table>\n",
       "</div>"
      ],
      "text/plain": [
       "   fiscalDate  fiscalQuarter  totalRevenue\n",
       "0  2021-03-24              2   92332286186\n",
       "1  2020-12-16              1  111978134657"
      ]
     },
     "execution_count": 140,
     "metadata": {},
     "output_type": "execute_result"
    }
   ],
   "source": [
    "appl_2qrt_df = revenue_history('AAPL', sandbox_params, 2)\n",
    "appl_2qrt_df"
   ]
  },
  {
   "cell_type": "code",
   "execution_count": 17,
   "id": "676473b0-350d-4363-b685-0379b243657d",
   "metadata": {},
   "outputs": [],
   "source": [
    "# def historical_data(_symbol, _range=None, _date=None):\n",
    "#     endpoint = f'{base_url}/stock/{_symbol}/chart'\n",
    "#     if _range:\n",
    "#         endpoint += f'/{_range}'\n",
    "#     elif _date:\n",
    "#         endpoint += f'/date/{_date}'\n",
    "    \n",
    "#     resp = requests.get(endpoint, params=params)\n",
    "#     resp.raise_for_status()\n",
    "#     return pd.DataFrame(resp.json())"
   ]
  },
  {
   "cell_type": "code",
   "execution_count": 26,
   "id": "98650bed-3ddb-4107-bd83-a9c00d759ed8",
   "metadata": {},
   "outputs": [],
   "source": [
    "#appl_3m_df = historical_data('AAPL', _range='1m')"
   ]
  },
  {
   "cell_type": "code",
   "execution_count": null,
   "id": "eb1fa629-147f-48e9-9d0b-a7aea761d091",
   "metadata": {},
   "outputs": [],
   "source": []
  }
 ],
 "metadata": {
  "kernelspec": {
   "display_name": "Python 3",
   "language": "python",
   "name": "python3"
  },
  "language_info": {
   "codemirror_mode": {
    "name": "ipython",
    "version": 3
   },
   "file_extension": ".py",
   "mimetype": "text/x-python",
   "name": "python",
   "nbconvert_exporter": "python",
   "pygments_lexer": "ipython3",
   "version": "3.9.5"
  }
 },
 "nbformat": 4,
 "nbformat_minor": 5
}
