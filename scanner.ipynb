{
 "cells": [
  {
   "cell_type": "code",
   "execution_count": 1,
   "id": "288983ae-7db0-4477-923a-1cc2df5b7da5",
   "metadata": {},
   "outputs": [],
   "source": [
    "import os\n",
    "import requests\n",
    "import pandas as pd\n",
    "import matplotlib.pyplot as plt"
   ]
  },
  {
   "cell_type": "code",
   "execution_count": 2,
   "id": "9f95cf2c-976b-43c6-9f94-7d41ff67701d",
   "metadata": {},
   "outputs": [
    {
     "name": "stdout",
     "output_type": "stream",
     "text": [
      "Tsk_2f36139a7da4433bbc4882148386ff32\n",
      "sk_adc1a33884d64226b0ad7b2e4a5f213e\n"
     ]
    }
   ],
   "source": [
    "print(os.environ.get('IEX_SANDBOX_TOKEN'))\n",
    "print(os.environ.get('IEX_TOKEN'))"
   ]
  },
  {
   "cell_type": "code",
   "execution_count": 3,
   "id": "4aee105c-e88a-472b-831d-a195d8584c22",
   "metadata": {},
   "outputs": [],
   "source": [
    "base_url = 'https://cloud.iexapis.com/v1'\n",
    "sandbox_url = 'https://sandbox.iexapis.com/stable'\n",
    "\n",
    "token = os.environ.get('IEX_TOKEN')\n",
    "sandbox_token = os.environ.get('IEX_SANDBOX_TOKEN')\n",
    "params = {'token': token}\n",
    "sandbox_params = {'token': sandbox_token}\n"
   ]
  },
  {
   "cell_type": "code",
   "execution_count": 52,
   "id": "1edeb24a-06f6-4a99-a556-ae4b583d82b4",
   "metadata": {},
   "outputs": [],
   "source": [
    "endpoint = '/stock/aapl/chart/3m'\n",
    "# endpoint = '/stock/aapl/balance-sheet'\n",
    "# endpoint = '/stock/aapl/financials'\n",
    "# endpoint = '/time-series/reported_financials/AAPL/10-Q?last=2'\n",
    "# endpoint = '/time-series'\n",
    "# endpoint = '/stock/aapl/financials?period=quarter'\n",
    "\n",
    "# endpoint = '/stock/aapl/price'\n",
    "# endpoint = '/stock/aapl/income/10-Q?last=2'\n",
    "# resp = requests.get(base_url+endpoint, params = params)\n",
    "resp = requests.get(sandbox_url+endpoint, params = sandbox_params)\n",
    "resp.raise_for_status()\n",
    "resp = resp.json()"
   ]
  },
  {
   "cell_type": "code",
   "execution_count": 58,
   "id": "92dca4dc-e1fd-4242-aabf-36fb1a08c63e",
   "metadata": {},
   "outputs": [],
   "source": [
    "# resp"
   ]
  },
  {
   "cell_type": "code",
   "execution_count": 16,
   "id": "2d46c6b3-a8fa-48ad-ad6f-08c9b4804c90",
   "metadata": {},
   "outputs": [],
   "source": [
    "# If you plan to use this same endpoint a few times, it makes sense to create a function to avoid repeating code. Here is an example:"
   ]
  },
  {
   "cell_type": "markdown",
   "id": "f0f4baa3-9096-4e7c-b96d-790d9668598e",
   "metadata": {},
   "source": [
    "## Method 1: Corporate Profitability -- Profit Analysis"
   ]
  },
  {
   "cell_type": "code",
   "execution_count": 30,
   "id": "c6346544-f1e6-4944-bb53-fc18b055f361",
   "metadata": {},
   "outputs": [],
   "source": [
    "def profitability(_symbol, _url='sandbox', _last=12):\n",
    "    # Here we will calculate two indicators\n",
    "    # 1. ROE = net income / (asset - liability) = Net Income from Continuing Operation net minority interest (from income statement) /Stockholders' Equity (from balance sheet)\n",
    "    # 2. gross profit\n",
    "    \n",
    "    # define parameters\n",
    "    base_url = 'https://cloud.iexapis.com/v1'\n",
    "    sandbox_url = 'https://sandbox.iexapis.com/stable'\n",
    "\n",
    "    base_token = os.environ.get('IEX_TOKEN')\n",
    "    sandbox_token = os.environ.get('IEX_SANDBOX_TOKEN')\n",
    "    base_params = {'token': base_token}\n",
    "    sandbox_params = {'token': sandbox_token}\n",
    "    \n",
    "    ticker_lower = f'{_symbol}'.lower() #IEX only accepts lower case ticker\n",
    "    ticker_upper = f'{_symbol}'.upper() #Use upper case ticker for plotting\n",
    "    \n",
    "    incomeStat_url = 'stock/aapl/income'\n",
    "    balanceStat_url = '/stock/aapl/balance-sheet'\n",
    "    \n",
    "    # _last defaul is 12; min is 1 (quarters)\n",
    "    if _url == 'sandbox':\n",
    "        incomeStat_endpoint = f'{sandbox_url}/{incomeStat_url}/?last={_last}'\n",
    "        balanceStat_endpoint = f'{sandbox_url}/{balanceStat_url}/?last={_last}'\n",
    "        incomeStat_resp = requests.get(incomeStat_endpoint, params=sandbox_params)\n",
    "        balanceStat_resp = requests.get(balanceStat_endpoint, params=sandbox_params)\n",
    "    else: # need IEX subscription in order to support this url\n",
    "        incomeStat_endpoint = f'{base_url}/{incomeStat_url}/?last={_last}'\n",
    "        balanceStat_endpoint = f'{base_url}/{balanceStat_url}/?last={_last}'\n",
    "        incomeStat_resp = requests.get(incomeStat_endpoint, params=base_params) \n",
    "        balanceStat_resp = requests.get(balanceStat_endpoint, params=base_params)\n",
    "    incomeStat_resp.raise_for_status()\n",
    "    incomeStat_resp = incomeStat_resp.json()\n",
    "    if _last == 12 and len(incomeStat_resp['income']) < 12:\n",
    "        print(f'Hey! {ticker_upper} is a relatively new IPO.\\nThe company has published less than 3 years worth of financial data for us to perform a meaningful analysis.')\n",
    "        return None\n",
    "    balanceStat_resp.raise_for_status()\n",
    "    balanceStat_resp = balanceStat_resp.json()\n",
    "    \n",
    "    return incomeStat_resp\n",
    "    "
   ]
  },
  {
   "cell_type": "code",
   "execution_count": 31,
   "id": "2eeacee3-463b-43e8-a141-d5fadfaff74f",
   "metadata": {},
   "outputs": [
    {
     "data": {
      "text/plain": [
       "{'symbol': 'AAPL',\n",
       " 'income': [{'costOfRevenue': 52781878745,\n",
       "   'currency': 'USD',\n",
       "   'ebit': 28092323582,\n",
       "   'filingType': '10-Q',\n",
       "   'fiscalDate': '2021-03-26',\n",
       "   'fiscalQuarter': 2,\n",
       "   'fiscalYear': 2031,\n",
       "   'grossProfit': 39041746447,\n",
       "   'incomeTax': 4403263573,\n",
       "   'interestIncome': 696546328,\n",
       "   'minorityInterest': 0,\n",
       "   'netIncome': 24342818360,\n",
       "   'netIncomeBasic': 24571718942,\n",
       "   'operatingExpense': 63889503802,\n",
       "   'operatingIncome': 28189524065,\n",
       "   'otherIncomeExpenseNet': 0,\n",
       "   'pretaxIncome': 29405766281,\n",
       "   'reportDate': '2021-04-29',\n",
       "   'researchAndDevelopment': 5338598255,\n",
       "   'sellingGeneralAndAdmin': 5485123228,\n",
       "   'symbol': 'AAPL',\n",
       "   'totalRevenue': 92804751009,\n",
       "   'id': 'NECIMO',\n",
       "   'key': 'ALPA',\n",
       "   'subkey': 'quarterly',\n",
       "   'updated': 1625122979887},\n",
       "  {'costOfRevenue': 69469727207,\n",
       "   'currency': 'USD',\n",
       "   'ebit': 35209618931,\n",
       "   'filingType': '10-Q',\n",
       "   'fiscalDate': '2020-12-24',\n",
       "   'fiscalQuarter': 1,\n",
       "   'fiscalYear': 2112,\n",
       "   'grossProfit': 45369781809,\n",
       "   'incomeTax': 4863945458,\n",
       "   'interestIncome': 650331317,\n",
       "   'minorityInterest': 0,\n",
       "   'netIncome': 28955448681,\n",
       "   'netIncomeBasic': 29778684233,\n",
       "   'operatingExpense': 79694974408,\n",
       "   'operatingIncome': 34701801557,\n",
       "   'otherIncomeExpenseNet': 0,\n",
       "   'pretaxIncome': 33862810392,\n",
       "   'reportDate': '2021-01-13',\n",
       "   'researchAndDevelopment': 5382255728,\n",
       "   'sellingGeneralAndAdmin': 5861694974,\n",
       "   'symbol': 'AAPL',\n",
       "   'totalRevenue': 113746076019,\n",
       "   'id': 'OECMNI',\n",
       "   'key': 'APAL',\n",
       "   'subkey': 'quarterly',\n",
       "   'updated': 1665756445192}]}"
      ]
     },
     "execution_count": 31,
     "metadata": {},
     "output_type": "execute_result"
    }
   ],
   "source": [
    "profitability('nio', 'sandbox',2)"
   ]
  },
  {
   "cell_type": "code",
   "execution_count": null,
   "id": "54446902-b588-4cc9-ac59-3abd6acd8b31",
   "metadata": {},
   "outputs": [],
   "source": [
    "# _last defaul is 12; min is 1 (quarters)\n",
    "endpoint = f'{sandbox_url}/{incomeStat_endpoint}'\n",
    "resp = requests.get(endpoint, params=sandbox_params)\n",
    "resp = requests.get(endpoint, params=base_params) # need IEX subscription in order to support this url\n",
    "resp.raise_for_status()\n",
    "resp = resp.json()"
   ]
  },
  {
   "cell_type": "markdown",
   "id": "e563a06c-3ffd-4df0-9242-67c0e2fea96c",
   "metadata": {},
   "source": [
    "## Method 4: Corporate Growth -- Revenue Analysis"
   ]
  },
  {
   "cell_type": "code",
   "execution_count": 28,
   "id": "65820b65-f2e8-4360-b2f3-9c94d4073cfe",
   "metadata": {},
   "outputs": [],
   "source": [
    "def growth(_symbol, _url='sandbox', _last=12):\n",
    "    \n",
    "    # define parameters\n",
    "    base_url = 'https://cloud.iexapis.com/v1'\n",
    "    sandbox_url = 'https://sandbox.iexapis.com/stable'\n",
    "\n",
    "    base_token = os.environ.get('IEX_TOKEN')\n",
    "    sandbox_token = os.environ.get('IEX_SANDBOX_TOKEN')\n",
    "    base_params = {'token': base_token}\n",
    "    sandbox_params = {'token': sandbox_token}\n",
    "    \n",
    "    ticker_lower = f'{_symbol}'.lower() #IEX only accepts lower case ticker\n",
    "    ticker_upper = f'{_symbol}'.upper() #Use upper case ticker for plotting\n",
    "    \n",
    "    # _last defaul is 12; min is 1 (quarters)\n",
    "    if _url == 'sandbox':\n",
    "        endpoint = f'{sandbox_url}/stock/{ticker_lower}/income/10-Q/?last={_last}'\n",
    "        resp = requests.get(endpoint, params=sandbox_params)\n",
    "    else:\n",
    "        endpoint = f'{base_url}/stock/{ticker_lower}/income/10-Q/?last={_last}'\n",
    "        resp = requests.get(endpoint, params=base_params) # need IEX subscription in order to support this url\n",
    "    resp.raise_for_status()\n",
    "    resp = resp.json()\n",
    "    \n",
    "    if _last == 12 and len(resp['income']) < 12:\n",
    "        print(f'Hey! {ticker_upper} is a relatively new IPO.\\nThe company has published less than 3 years worth of financial data for us to perform a meaningful analysis.')\n",
    "        return None\n",
    "    \n",
    "    rev = []\n",
    "    rev_qrt = {}\n",
    "    \n",
    "    # extract date / quarter_number / quarterly_revenue\n",
    "    for num in range(0,len(resp['income'])):\n",
    "        for key in ('fiscalDate','fiscalQuarter','totalRevenue'):\n",
    "            rev_qrt[key] = resp['income'][num].setdefault(key)\n",
    "        rev.append(rev_qrt)\n",
    "        rev_qrt = {}\n",
    "    \n",
    "    # add TTM_Revenue\n",
    "    # the last 3 TTM Revenue would not be available\n",
    "    for i in range(0,len(rev)):\n",
    "        if (i+3) < len(rev):\n",
    "            rev[i]['TTM_Revenue'] = rev[i]['totalRevenue'] + rev[i+1]['totalRevenue'] + rev[i+2]['totalRevenue'] + rev[i+3]['totalRevenue']\n",
    "   \n",
    "    # Calculate YoY quarterly & yearly revenue growth rate\n",
    "    q=0\n",
    "    y=0\n",
    "    while q < 8: # YOY quarterly growth is calculated every 4 quarters, so 12 quarters of data can only derive 8 data points\n",
    "        rev[q]['Quarterly_Revenue_Growth'] = round((rev[q]['totalRevenue']/rev[q+4]['totalRevenue']-1)*100,2)\n",
    "        q += 1\n",
    "    while y < 5: # YOY same period growth is calculated every 4 data points, so 12 quarters of data can only derive 5 data points   \n",
    "        rev[y]['TTM_Revenue_Growth'] = round((rev[y]['TTM_Revenue']/rev[y+4]['TTM_Revenue']-1)*100,2)\n",
    "        y += 1\n",
    "    \n",
    "    # Convert to pandas DF\n",
    "    rev_df = pd.DataFrame(rev)  \n",
    "    # rename totalRevenue to Quarterly_Revenue\n",
    "    rev_df = rev_df.rename(columns={'totalRevenue': 'Quarterly_Revenue'})\n",
    "    \n",
    "    # remove df rows where quarterly_revenue_growth is NaN\n",
    "    rev_df = rev_df.loc[0:7]\n",
    "    # use datetime format and sort df by date\n",
    "    rev_df['fiscalDate'] = pd.to_datetime(rev_df['fiscalDate'], format='%Y/%m/%d')\n",
    "    rev_df = rev_df.sort_values('fiscalDate')\n",
    "    # transform date to year-month format\n",
    "    rev_df[\"date_yrmo\"] = rev_df['fiscalDate'].dt.strftime('%Y-%m')\n",
    "    \n",
    "    # calculate monthly average stock price \n",
    "    if _url == 'sandbox':\n",
    "        endpoint = f'{sandbox_url}/stock/{ticker_lower}/chart/39m'\n",
    "        resp = requests.get(endpoint, params=sandbox_params)\n",
    "    else:\n",
    "        endpoint = f'{base_url}/stock/{ticker_lower}/chart/39m'\n",
    "        resp = requests.get(endpoint, params=base_params) # need IEX subscription in order to support this url\n",
    "    \n",
    "    resp.raise_for_status()\n",
    "    df = pd.DataFrame(resp.json())\n",
    "    df = df[[\"symbol\",\"date\",\"fClose\",\"fVolume\"]]\n",
    "    # transform date to year-month format\n",
    "    df[\"date\"] = pd.to_datetime(df['date'], format='%Y/%m/%d')\n",
    "    df[\"date_yrmo\"] = df['date'].dt.strftime('%Y-%m')\n",
    "    # average close price by month\n",
    "    df1 = df.groupby('date_yrmo')['fClose'].mean().reset_index(name='avg_monthly_price')\n",
    "    df1['avg_monthly_price'] = round(df1['avg_monthly_price'],2)\n",
    "    df = pd.merge(df, df1, on='date_yrmo', how='left')\n",
    "    # merge df\n",
    "    rev_df = pd.merge(rev_df, df, on='date_yrmo', how='left')\n",
    "    \n",
    "    \n",
    "    #---------------------------------------------------------------------------------------------------------------------------------------------\n",
    "    # Plotting\n",
    "    fig = plt.figure(figsize=(16,9), dpi=100)\n",
    "    ax = fig.add_subplot(111)\n",
    "\n",
    "    ln1 = ax.plot(rev_df.date_yrmo, rev_df.Quarterly_Revenue_Growth, '-', label = 'Quarterly Revenue Growth Rate', color='tab:blue', linewidth=8)\n",
    "    ln2 = ax.plot(rev_df.date_yrmo, rev_df.TTM_Revenue_Growth, '-', label = 'TTM Revenue Growth Rate', color='tab:green', linewidth=8)\n",
    "    ax2 = ax.twinx()\n",
    "    ln3 = ax2.plot(rev_df.date_yrmo, rev_df.avg_monthly_price, 'r', label = 'Monthly Avg Stock Price', color='tab:red', linewidth=3)\n",
    "\n",
    "    # combine three lines\n",
    "    ln = ln1+ln2+ln3\n",
    "    labs = [l.get_label() for l in ln]\n",
    "\n",
    "    ax.legend(ln, labs, loc='upper right')#, ncol=3, mode = \"expand\")\n",
    "    ax.set_title(f'{ticker_upper}: YoY Quarterly vs TTM Revenue Growth Rate and Stock Price', fontsize=16)\n",
    "    ax.grid(alpha=.2)\n",
    "    ax.set_xlabel('Fiscal Year', fontsize=16)\n",
    "    ax.set_ylabel('Revenue Growth Rate (%)', fontsize=16)\n",
    "    ax2.set_ylabel('Monthly Average Stock Price ($)', fontsize=16)\n",
    "    fig.tight_layout()\n",
    "    plt.show()\n",
    "    #----------------------------------------------------------------------------------------------------------------------------------------------\n",
    "   \n",
    "    # return simple revenue history\n",
    "    rev = pd.DataFrame(rev)\n",
    "    rev = rev.sort_values('fiscalDate')\n",
    "    return rev\n",
    "#     return None\n",
    "    "
   ]
  },
  {
   "cell_type": "code",
   "execution_count": 29,
   "id": "ee1d92c6-bb00-4102-8e16-1a305e006e44",
   "metadata": {},
   "outputs": [
    {
     "name": "stdout",
     "output_type": "stream",
     "text": [
      "Hey! NIO is a relatively new IPO.\n",
      "The company has published less than 3 years worth of financial data for us to perform a meaningful analysis.\n"
     ]
    }
   ],
   "source": [
    "revenue_growth_trend = growth('nio', 'sandbox', 12)\n",
    "revenue_growth_trend\n"
   ]
  },
  {
   "cell_type": "code",
   "execution_count": null,
   "id": "eb1fa629-147f-48e9-9d0b-a7aea761d091",
   "metadata": {},
   "outputs": [],
   "source": []
  }
 ],
 "metadata": {
  "kernelspec": {
   "display_name": "Python 3",
   "language": "python",
   "name": "python3"
  },
  "language_info": {
   "codemirror_mode": {
    "name": "ipython",
    "version": 3
   },
   "file_extension": ".py",
   "mimetype": "text/x-python",
   "name": "python",
   "nbconvert_exporter": "python",
   "pygments_lexer": "ipython3",
   "version": "3.9.5"
  }
 },
 "nbformat": 4,
 "nbformat_minor": 5
}
